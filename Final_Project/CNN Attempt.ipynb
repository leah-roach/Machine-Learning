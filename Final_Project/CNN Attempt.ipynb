{
 "cells": [
  {
   "cell_type": "code",
   "execution_count": 88,
   "metadata": {},
   "outputs": [
    {
     "name": "stdout",
     "output_type": "stream",
     "text": [
      "The autoreload extension is already loaded. To reload it, use:\n",
      "  %reload_ext autoreload\n"
     ]
    }
   ],
   "source": [
    "#IPYNB For Optimizing KNN\n",
    "#many of these libraries are probably not needed\n",
    "import pandas as pd \n",
    "import numpy as np\n",
    "import os\n",
    "from skimage.feature import hog\n",
    "import matplotlib.pyplot as plt\n",
    "from KNN import knn_predict_L2, knn_predict_L1\n",
    "from plotutils import plot_data, plot_surface\n",
    "from knncrossval import KNN_cross_validate\n",
    "from sklearn import preprocessing\n",
    "from sklearn.metrics import confusion_matrix, f1_score, precision_score\n",
    "from confusion_matrix import make_confusion_matrix\n",
    "from skimage.feature import hog\n",
    "import numpy as np\n",
    "import seaborn as sns\n",
    "%matplotlib inline\n",
    "%load_ext autoreload\n",
    "%autoreload 2"
   ]
  },
  {
   "cell_type": "code",
   "execution_count": 89,
   "metadata": {},
   "outputs": [],
   "source": [
    "#cwd = os.getcwd() #if need the current directory \n",
    "df = pd.read_csv('digit-recognition/digit-recognition/train.csv')\n",
    "df2 = pd.read_csv('digit-recognition/digit-recognition/test.csv')\n",
    "#the shape of the dataframe is (38000, 785) meaning there are 38000 samples and 1 label with 784 features"
   ]
  },
  {
   "cell_type": "code",
   "execution_count": 90,
   "metadata": {},
   "outputs": [
    {
     "name": "stdout",
     "output_type": "stream",
     "text": [
      "(38000,)\n",
      "(38000, 784)\n",
      "Training subset selection: 1\n"
     ]
    },
    {
     "data": {
      "image/png": "[encoded data removed]",
      "text/plain": [
       "<Figure size 432x288 with 1 Axes>"
      ]
     },
     "metadata": {},
     "output_type": "display_data"
    },
    {
     "name": "stdout",
     "output_type": "stream",
     "text": [
      "(19000, 784)\n",
      "(4000, 28, 28, 1)\n"
     ]
    }
   ],
   "source": [
    "#turn the training dataframe into numpy array \n",
    "label_data_train = df.to_numpy()\n",
    "\n",
    "#column vector for the labels (38000,)\n",
    "label_train = label_data_train[:,0] \n",
    "\n",
    "#( 38000 x 784 matrix for the training data  )\n",
    "data_train = label_data_train[:, 1:] \n",
    "print(label_train.shape)\n",
    "print(data_train.shape)\n",
    "\n",
    "#turn testing dataframe into numpy array \n",
    "label_data_test = df2.to_numpy()\n",
    "label_test = label_data_test[:,0]\n",
    "data_test = label_data_test[:,1:]\n",
    "num_train_splits = 2 #int(num_cv_splits/2)\n",
    "num_labels = len(np.unique(label_train))\n",
    "# We won't train on the whole data set either but will get a data subset larger than the CV subset. \n",
    "# Pick our subset by choosing the split with the most equal label distribution.\n",
    "frequencies = np.zeros((num_train_splits, num_labels, 2))\n",
    "split_train_labels = np.split(label_train, num_train_splits)\n",
    "\n",
    "for i in range(len(split_train_labels)):\n",
    "    (unique, counts) = np.unique(split_train_labels[i], return_counts=True)\n",
    "    frequencies[i] = np.asarray((unique, counts)).T\n",
    "    \n",
    "variances = np.zeros(len(frequencies))\n",
    "\n",
    "for i in range(len(frequencies)):\n",
    "    labels = frequencies[i][:, 0]\n",
    "    vals = frequencies[i][:, 1]\n",
    "    variances[i] = np.var(vals)\n",
    "    \n",
    "training_subset_selection = np.argmin(variances)\n",
    "print(\"Training subset selection: {0}\".format(training_subset_selection))\n",
    "\n",
    "labels = frequencies[training_subset_selection][:, 0]\n",
    "vals = frequencies[training_subset_selection][:, 1]\n",
    "\n",
    "x = np.arange(len(labels))  # the label locations\n",
    "fig, ax = plt.subplots()\n",
    "rects1 = ax.bar(x - 0.25, vals, 0.5, label='vals')\n",
    "\n",
    "# Add some text for labels, title and custom x-axis tick labels, etc.\n",
    "ax.set_ylabel('Number of Occurances')\n",
    "ax.set_title('Subset {0} distribution'.format(training_subset_selection))\n",
    "ax.set_xticks(x)\n",
    "ax.set_xticklabels(labels)\n",
    "ax.legend()\n",
    "\n",
    "fig.tight_layout()\n",
    "\n",
    "plt.show()\n",
    "\n",
    "split_train_data = np.split(data_train, num_train_splits)[training_subset_selection]\n",
    "split_train_labels = np.split(label_train, num_train_splits)[training_subset_selection]\n",
    "#rint(np.array(split_train_data).shape)\n",
    "print(split_train_data.shape)\n",
    "split_train_data = split_train_data.reshape(split_train_data.shape[0],28,28,1)\n",
    "data_test = data_test.reshape(data_test.shape[0],28,28,1)\n",
    "print(data_test.shape)"
   ]
  },
  {
   "cell_type": "code",
   "execution_count": 99,
   "metadata": {},
   "outputs": [
    {
     "name": "stdout",
     "output_type": "stream",
     "text": [
      "Model: \"sequential_60\"\n",
      "_________________________________________________________________\n",
      "Layer (type)                 Output Shape              Param #   \n",
      "=================================================================\n",
      "conv2d_26 (Conv2D)           (None, 26, 26, 32)        320       \n",
      "_________________________________________________________________\n",
      "max_pooling2d_14 (MaxPooling (None, 13, 13, 32)        0         \n",
      "_________________________________________________________________\n",
      "flatten_43 (Flatten)         (None, 5408)              0         \n",
      "_________________________________________________________________\n",
      "dense_49 (Dense)             (None, 10)                54090     \n",
      "=================================================================\n",
      "Total params: 54,410\n",
      "Trainable params: 54,410\n",
      "Non-trainable params: 0\n",
      "_________________________________________________________________\n",
      "Epoch 1/5\n",
      "149/149 [==============================] - 5s 32ms/step - loss: 8.2222 - accuracy: 0.8585 - val_loss: 0.2123 - val_accuracy: 0.9350\n",
      "Epoch 2/5\n",
      "149/149 [==============================] - 5s 31ms/step - loss: 0.1845 - accuracy: 0.9426 - val_loss: 0.2133 - val_accuracy: 0.9375\n",
      "Epoch 3/5\n",
      "149/149 [==============================] - 5s 33ms/step - loss: 0.1539 - accuracy: 0.9526 - val_loss: 0.2200 - val_accuracy: 0.9385\n",
      "Epoch 4/5\n",
      "149/149 [==============================] - 5s 32ms/step - loss: 0.1339 - accuracy: 0.9581 - val_loss: 0.2359 - val_accuracy: 0.9383\n",
      "Epoch 5/5\n",
      "149/149 [==============================] - 5s 32ms/step - loss: 0.1201 - accuracy: 0.9627 - val_loss: 0.2267 - val_accuracy: 0.9415\n",
      "125/125 [==============================] - 1s 4ms/step - loss: 0.2267 - accuracy: 0.9415\n"
     ]
    }
   ],
   "source": [
    "from keras.layers import Dense\n",
    "from keras.models import Sequential\n",
    "import tensorflow as tf\n",
    "from tensorflow.keras import Sequential\n",
    "from tensorflow.keras.layers import Conv2D, Conv1D\n",
    "from tensorflow.keras.layers import MaxPooling1D, MaxPooling2D, Dropout\n",
    "from tensorflow.keras.layers import Flatten\n",
    "from tensorflow.keras.layers import Dense\n",
    "from tensorflow.keras.optimizers import Adam\n",
    "print\n",
    "model = Sequential()\n",
    "model.add(Conv2D(filters= 32, kernel_size= (3,3), activation='relu',\n",
    "                                 input_shape=(28,28,1)))\n",
    "#model.add(Dropout(0.5))\n",
    "model.add(MaxPooling2D((2,2)))\n",
    "#model.add(Conv1D(filters=64, kernel_size=3, activation='relu'))\n",
    "#model.add(Dropout(0.25))\n",
    "#model.add(MaxPooling1D((2)))\n",
    "#model.add(Conv1D(filters=32, kernel_size=3, activation='relu'))\n",
    "#model.add(Dropout(0.25))\n",
    "#model.add(MaxPooling1D((2)))\n",
    "model.add(Flatten())\n",
    "#often use multiple dense layers \n",
    "#model.add(Dense(64, activation='softmax'))\n",
    "#model.add(Dense(128, activation='relu')) #needs to be equal to # of filters\n",
    "model.add(Dense(10, activation='softmax'))\n",
    "model.summary()\n",
    "#'categorical_crossentropy'\n",
    "#sgd\n",
    "model.compile(loss='sparse_categorical_crossentropy',\n",
    "              optimizer=Adam(learning_rate=0.01),\n",
    "              metrics=['accuracy'])\n",
    "\n",
    "\n",
    "model.fit(split_train_data, split_train_labels,\n",
    "          batch_size=128,\n",
    "          epochs=5,\n",
    "          validation_data=(data_test,label_test))\n",
    "\n",
    "test_loss, test_acc = model.evaluate(data_test, label_test)\n",
    "#for the error I am getting, it has to do with the full shape being [4,784]"
   ]
  },
  {
   "cell_type": "code",
   "execution_count": null,
   "metadata": {},
   "outputs": [],
   "source": []
  }
 ],
 "metadata": {
  "kernelspec": {
   "display_name": "Python 3",
   "language": "python",
   "name": "python3"
  }
 },
 "nbformat": 4,
 "nbformat_minor": 2
}
