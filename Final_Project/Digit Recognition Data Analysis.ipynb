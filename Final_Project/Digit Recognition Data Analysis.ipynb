{
 "cells": [
  {
   "cell_type": "code",
   "execution_count": 1,
   "metadata": {},
   "outputs": [],
   "source": [
    "import pandas as pd \n",
    "import numpy as np\n",
    "import os\n",
    "from skimage.feature import hog\n",
    "from skimage import data, exposure\n",
    "import matplotlib.pyplot as plt\n",
    "from KNN import knn_predict_instance\n",
    "#from SVM import kernel_svm_train, kernel_svm_predict\n",
    "from plotutils import plot_data, plot_surface\n",
    "from kernelsvm import SVM\n",
    "import numpy as np\n"
   ]
  },
  {
   "cell_type": "code",
   "execution_count": 2,
   "metadata": {
    "scrolled": true
   },
   "outputs": [],
   "source": [
    "#cwd = os.getcwd() #if need the current directory \n",
    "df = pd.read_csv('digit-recognition/digit-recognition/train.csv')\n",
    "df2 = pd.read_csv('digit-recognition/digit-recognition/test.csv')\n",
    "#the shape of the dataframe is (38000, 785) meaning there are 38000 samples and 1 label with 784 features"
   ]
  },
  {
   "cell_type": "raw",
   "metadata": {},
   "source": []
  },
  {
   "cell_type": "code",
   "execution_count": 16,
   "metadata": {},
   "outputs": [
    {
     "ename": "SyntaxError",
     "evalue": "invalid syntax (<ipython-input-16-8d8fde11a52a>, line 2)",
     "output_type": "error",
     "traceback": [
      "\u001b[1;36m  File \u001b[1;32m\"<ipython-input-16-8d8fde11a52a>\"\u001b[1;36m, line \u001b[1;32m2\u001b[0m\n\u001b[1;33m    np.where((arr=2) || (arr=1))\u001b[0m\n\u001b[1;37m                 ^\u001b[0m\n\u001b[1;31mSyntaxError\u001b[0m\u001b[1;31m:\u001b[0m invalid syntax\n"
     ]
    }
   ],
   "source": [
    "arr = np.array([1,2,3,4,5])\n",
    "np.where((arr=2) || (arr=1))"
   ]
  },
  {
   "cell_type": "code",
   "execution_count": 20,
   "metadata": {},
   "outputs": [],
   "source": [
    "#df.iloc[0,:] to access a certain column or row by index\n",
    "#any other fun commands to put \n",
    "\n",
    "#try to interpret the data graphically "
   ]
  },
  {
   "cell_type": "code",
   "execution_count": 3,
   "metadata": {},
   "outputs": [
    {
     "name": "stdout",
     "output_type": "stream",
     "text": [
      "(38000,)\n",
      "(38000, 784)\n"
     ]
    }
   ],
   "source": [
    "#turn the training dataframe into numpy array \n",
    "label_data_train = df.to_numpy()\n",
    "\n",
    "#column vector for the labels (38000,)\n",
    "label_train = label_data_train[:,0] \n",
    "\n",
    "#( 38000 x 784 matrix for the training data  )\n",
    "data_train = label_data_train[:, 1:] \n",
    "print(label_train.shape)\n",
    "print(data_train.shape)\n",
    "\n",
    "#turn testing dataframe into numpy array \n",
    "label_data_test = df2.to_numpy()\n",
    "label_test = label_data_test[:,0]\n",
    "data_test = label_data_test[:,1:]\n"
   ]
  },
  {
   "cell_type": "code",
   "execution_count": null,
   "metadata": {},
   "outputs": [],
   "source": [
    "#Use sklearn library to try a KNN \n",
    "#from sklearn.neighbors import KNeighborsClassifier\n",
    "#neigh = KNeighborsClassifier(n_neighbors=3)\n",
    "#neigh.fit(data_train, label_train)\n",
    "#knn_predictions = neigh.predict(data_test)"
   ]
  },
  {
   "cell_type": "code",
   "execution_count": 4,
   "metadata": {},
   "outputs": [],
   "source": [
    "#performs feature extraction \n",
    "#code taken from https://medium.com/@basu369victor/handwritten-digits-recognition-d3d383431845\n",
    "#images aren't all same length so don't need to worry about scaling\n",
    "import matplotlib.pyplot as plt\n",
    "from skimage.feature import hog\n",
    "list_hog = []\n",
    "list_hog1 = []\n",
    "for feature in data_train:\n",
    "    fd = hog(feature.reshape((28,28)), orientations=9, pixels_per_cell=(8,8),cells_per_block=(2,2),visualize=False ) #can probably optimize this\n",
    "    list_hog.append(fd) #4x4 seems to be optimal \n",
    "hog_features_train = np.array(list_hog, 'float64')\n",
    "\n",
    "#on testing data \n",
    "for feature in data_test:\n",
    "    fd = hog(feature.reshape((28,28)), orientations=9, pixels_per_cell=(8,8),cells_per_block=(2,2),visualize=False )\n",
    "    list_hog1.append(fd)\n",
    "hog_features_test = np.array(list_hog1, 'float64')\n"
   ]
  },
  {
   "cell_type": "code",
   "execution_count": null,
   "metadata": {},
   "outputs": [],
   "source": [
    "#hog visualization \n",
    "#code taken from https://scikit-image.org/docs/dev/auto_examples/features_detection/plot_hog.html\n",
    "import matplotlib.pyplot as plt\n",
    "print(hog_features_test.shape)\n",
    "print(data_test.shape)\n",
    "image = data_test[5,:].reshape((28,28)) #can do this for multiple images \n",
    "\n",
    "fd, hog_image = hog(image, orientations=9, pixels_per_cell=(8, 8),\n",
    "                    cells_per_block=(1, 1), visualize=True, multichannel=False)\n",
    "\n",
    "fig, (ax1, ax2) = plt.subplots(1, 2, figsize=(20, 20), sharex=True, sharey=True)\n",
    "\n",
    "ax1.axis('off')\n",
    "ax1.imshow(image, cmap=plt.cm.gray)\n",
    "ax1.set_title('Input image')\n",
    "\n",
    "# Rescale histogram for better display\n",
    "hog_image_rescaled = exposure.rescale_intensity(hog_image, in_range=(0, 10))\n",
    "\n",
    "ax2.axis('off')\n",
    "ax2.imshow(hog_image_rescaled, cmap=plt.cm.gray)\n",
    "ax2.set_title('Histogram of Oriented Gradients')\n",
    "plt.show()"
   ]
  },
  {
   "cell_type": "code",
   "execution_count": 4,
   "metadata": {
    "scrolled": true
   },
   "outputs": [
    {
     "name": "stdout",
     "output_type": "stream",
     "text": [
      "(876,)\n"
     ]
    }
   ],
   "source": [
    "#Use sklearn library to try SVM model \n",
    "#linear appears to work the best with HOG \n",
    "from sklearn import svm\n",
    "from sklearn.multiclass import OneVsOneClassifier\n",
    "label_train1_2 = np.where(np.logical_or(label_train==2,label_train==1))[0] #either 1 or 2\n",
    "data_train1_2 = data_train[label_train1_2,:]\n",
    "labels_1_2 = label_train[label_train1_2]\n",
    "label_test1_2 = np.where(np.logical_or(label_test==2,label_test==1))[0] #either 1 or 2\n",
    "data_test1_2 = data_test[label_test1_2,:]\n",
    "labels_test = label_test[label_test1_2]\n",
    "clf = OneVsOneClassifier(svm.LinearSVC(C=0.030)) #performs slightyly better on SVM both linear and RBF\n",
    "#clf = OneVsOneClassifier(svm.SVC(gamma = 0.01, C=.030))\n",
    "clf.fit(data_train1_2, labels_1_2)\n",
    "svm_predictions = clf.predict(data_test1_2)\n",
    "print(svm_predictions.shape)"
   ]
  },
  {
   "cell_type": "code",
   "execution_count": null,
   "metadata": {},
   "outputs": [],
   "source": [
    "from sklearn import svm\n",
    "from sklearn.multiclass import OneVsOneClassifier\n",
    "clf = OneVsOneClassifier(svm.SVC()) #takes a very very long time to run\n",
    "clf.fit(data_train, label_train)\n",
    "svm_predictions = clf.predict(data_test)\n",
    "print(svm_predictions.shape)"
   ]
  },
  {
   "cell_type": "code",
   "execution_count": 27,
   "metadata": {},
   "outputs": [
    {
     "name": "stdout",
     "output_type": "stream",
     "text": [
      "(38000,)\n",
      "(4000,)\n",
      "SVM Accuracy: 0.9840182648401826\n"
     ]
    }
   ],
   "source": [
    "#compute accuracy using sklearn \n",
    "from sklearn import metrics\n",
    "print(label_train.shape)\n",
    "print(label_test.shape)\n",
    "#print(\"KNN Accuracy:\",metrics.accuracy_score(label_test, knn_predictions))\n",
    "print(\"SVM Accuracy:\",metrics.accuracy_score(labels_test, svm_predictions))"
   ]
  },
  {
   "cell_type": "code",
   "execution_count": null,
   "metadata": {},
   "outputs": [],
   "source": [
    "#unewighted KNN with euclidean distance for an instance \n",
    "#calculate using euclidean distance \n",
    "#would be data_test.shape[0]\n",
    "knn_predicts = []\n",
    "for i in range(data_test.shape[0]):\n",
    "    knn_predicts.append(knn_predict_instance(data_train, label_train, data_test[i,:], 3))\n"
   ]
  },
  {
   "cell_type": "code",
   "execution_count": null,
   "metadata": {},
   "outputs": [],
   "source": [
    "correct = 0\n",
    "print(len(knn_predicts))\n",
    "for i in range(data_test.shape[0]):\n",
    "    if label_test[i]==knn_predicts[i]:\n",
    "        correct = correct+1\n",
    "print(correct/4000)\n"
   ]
  },
  {
   "cell_type": "code",
   "execution_count": null,
   "metadata": {},
   "outputs": [],
   "source": [
    "#Use sklearn library to try a KNN with HOG \n",
    "from sklearn.neighbors import KNeighborsClassifier\n",
    "neigh = KNeighborsClassifier(n_neighbors=3)\n",
    "neigh.fit(hog_features_train, label_train)\n",
    "knn_predictions = neigh.predict(hog_features_test)"
   ]
  },
  {
   "cell_type": "code",
   "execution_count": 5,
   "metadata": {},
   "outputs": [
    {
     "name": "stdout",
     "output_type": "stream",
     "text": [
      "(7985, 144)\n"
     ]
    }
   ],
   "source": [
    "hog_features_train.shape\n",
    "#one vs one approach\n",
    "label_train1_2 = label_train[np.logical_or(label_train==1,label_train==2)] #either 1 or 2\n",
    "hog_features_train1_2 = hog_features_train[np.logical_or(label_train==1,label_train==2),:]\n",
    "print(hog_features_train1_2.shape)"
   ]
  },
  {
   "cell_type": "code",
   "execution_count": null,
   "metadata": {},
   "outputs": [],
   "source": [
    "#for one vs all approach \n",
    "label_train1 = np.where(label_train==1, label_train, -1)\n",
    "label_train2 = np.where(label_train==2, 1, -1)\n",
    "label_train3 = np.where(label_train==3, 1, -1)\n",
    "label_train4 = np.where(label_train==4, 1, -1)\n",
    "label_train5 = np.where(label_train==5, 1, -1)\n",
    "label_train6 = np.where(label_train==6, 1, -1)\n",
    "label_train7 = np.where(label_train==7, 1, -1)\n",
    "label_train8 = np.where(label_train==8, 1, -1)\n",
    "label_train9 = np.where(label_train==9, 1, -1)"
   ]
  },
  {
   "cell_type": "code",
   "execution_count": 25,
   "metadata": {},
   "outputs": [
    {
     "name": "stdout",
     "output_type": "stream",
     "text": [
      "[[0 0 0 ... 0 0 0]\n",
      " [0 0 0 ... 0 0 0]\n",
      " [0 0 0 ... 0 0 0]\n",
      " ...\n",
      " [0 0 0 ... 0 0 0]\n",
      " [0 0 0 ... 0 0 0]\n",
      " [0 0 0 ... 0 0 0]]\n",
      "[[0 0 0 ... 0 0 0]\n",
      " [0 0 0 ... 0 0 0]\n",
      " [0 0 0 ... 0 0 0]\n",
      " ...\n",
      " [0 0 0 ... 0 0 0]\n",
      " [0 0 0 ... 0 0 0]\n",
      " [0 0 0 ... 0 0 0]]\n",
      "[2 1 2 ... 2 1 1]\n"
     ]
    }
   ],
   "source": [
    "# Run polynomial SVM\n",
    "#train_data = np.split(data_train, 100)\n",
    "#train_labels = np.split(label_train, 100)\n",
    "label_train1_2 = np.where(np.logical_or(label_train==2,label_train==1))[0] #either 1 or 2\n",
    "data_train1_2 = data_train[label_train1_2,:]\n",
    "labels_1_2 = label_train[label_train1_2]\n",
    "#print(data_train)\n",
    "#print(data_train1_2)\n",
    "#print(labels_1_2)\n",
    "#polynomialSVM = SVM(C=0.030)\n",
    "#polynomialSVM.fit(data_train1_2, labels_1_2)\n",
    "\n",
    "#print(\"label_test: {0}\".format(label_test))\n",
    "#predictions = polynomialSVM.predict(data_test)\n",
    "#print(\"predictions: {0}\".format(predictions))\n",
    "#correct = np.sum(predictions == label_test)\n",
    "#print(\"%d out of %d predictions correct\" % (correct, len(predictions)))"
   ]
  },
  {
   "cell_type": "code",
   "execution_count": 28,
   "metadata": {},
   "outputs": [
    {
     "ename": "NameError",
     "evalue": "name 'hog_features_train' is not defined",
     "output_type": "error",
     "traceback": [
      "\u001b[1;31m---------------------------------------------------------------------------\u001b[0m",
      "\u001b[1;31mNameError\u001b[0m                                 Traceback (most recent call last)",
      "\u001b[1;32m<ipython-input-28-77fb2e91f9c5>\u001b[0m in \u001b[0;36m<module>\u001b[1;34m()\u001b[0m\n\u001b[0;32m      1\u001b[0m \u001b[1;31m#Attempt at one vs one approach\u001b[0m\u001b[1;33m\u001b[0m\u001b[1;33m\u001b[0m\u001b[0m\n\u001b[0;32m      2\u001b[0m \u001b[1;31m#maybe use np arg where?\u001b[0m\u001b[1;33m\u001b[0m\u001b[1;33m\u001b[0m\u001b[0m\n\u001b[1;32m----> 3\u001b[1;33m \u001b[0mdata_train\u001b[0m\u001b[1;33m=\u001b[0m\u001b[0mhog_features_train\u001b[0m\u001b[1;33m.\u001b[0m\u001b[0mT\u001b[0m \u001b[1;31m#transpoe so columns are the sample data\u001b[0m\u001b[1;33m\u001b[0m\u001b[0m\n\u001b[0m\u001b[0;32m      4\u001b[0m \u001b[0mprint\u001b[0m\u001b[1;33m(\u001b[0m\u001b[0mdata_train\u001b[0m\u001b[1;33m.\u001b[0m\u001b[0mshape\u001b[0m\u001b[1;33m)\u001b[0m\u001b[1;33m\u001b[0m\u001b[0m\n\u001b[0;32m      5\u001b[0m \u001b[0mlocations1\u001b[0m \u001b[1;33m=\u001b[0m \u001b[0mnp\u001b[0m\u001b[1;33m.\u001b[0m\u001b[0margwhere\u001b[0m\u001b[1;33m(\u001b[0m\u001b[0mlabel_train\u001b[0m\u001b[1;33m==\u001b[0m\u001b[1;36m1\u001b[0m\u001b[1;33m)\u001b[0m\u001b[1;33m\u001b[0m\u001b[0m\n",
      "\u001b[1;31mNameError\u001b[0m: name 'hog_features_train' is not defined"
     ]
    }
   ],
   "source": [
    "#Attempt at one vs one approach \n",
    "#maybe use np arg where? \n",
    "data_train=hog_features_train.T #transpoe so columns are the sample data\n",
    "print(data_train.shape)\n",
    "locations1 = np.argwhere(label_train==1)\n",
    "locations2 = np.argwhere(label_train==2)\n",
    "locations1 = np.ndarray.flatten(locations1)\n",
    "locations2 = np.ndarray.flatten(locations2)\n",
    "data_train[:,np.append(locations1,locations2)]\n",
    "best_params = {}\n",
    "best_params['kernel'] = 'linear'\n",
    "best_params['C'] = 1\n",
    "label_train[np.logical_or(label_train==1,label_train==2)]\n",
    "#whaat happens when try to run a multi-class on the single class SVM model? \n",
    "#may need to change the labels \n",
    "part = data_train[:,np.append(locations1,locations2)]\n",
    "compare = label_train[np.logical_or(label_train==1,label_train==2)] #somehow still seems to work interesting \n",
    "compare = np.where(compare==1, compare, -1) #as model only takes 1, -1\n",
    "lin_svm_model1 = kernel_svm_train(part, compare, best_params) \n"
   ]
  },
  {
   "cell_type": "code",
   "execution_count": null,
   "metadata": {},
   "outputs": [],
   "source": []
  }
 ],
 "metadata": {
  "kernelspec": {
   "display_name": "Python 3",
   "language": "python",
   "name": "python3"
  },
  "language_info": {
   "codemirror_mode": {
    "name": "ipython",
    "version": 3
   },
   "file_extension": ".py",
   "mimetype": "text/x-python",
   "name": "python",
   "nbconvert_exporter": "python",
   "pygments_lexer": "ipython3",
   "version": "3.6.5"
  }
 },
 "nbformat": 4,
 "nbformat_minor": 2
}
