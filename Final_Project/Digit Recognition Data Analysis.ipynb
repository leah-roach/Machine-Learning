{
 "cells": [
  {
   "cell_type": "code",
   "execution_count": 1,
   "metadata": {},
   "outputs": [],
   "source": [
    "import pandas as pd \n",
    "import numpy as np\n",
    "import os\n",
    "from skimage.feature import hog\n",
    "from skimage import data, exposure\n",
    "import matplotlib.pyplot as plt\n",
    "from KNN import knn_predict_instance\n",
    "from plotutils import plot_data, plot_surface\n",
    "import numpy as np"
   ]
  },
  {
   "cell_type": "code",
   "execution_count": 2,
   "metadata": {
    "scrolled": true
   },
   "outputs": [],
   "source": [
    "#cwd = os.getcwd() #if need the current directory \n",
    "df = pd.read_csv('digit-recognition/digit-recognition/train.csv')\n",
    "df2 = pd.read_csv('digit-recognition/digit-recognition/test.csv')\n",
    "#the shape of the dataframe is (38000, 785) meaning there are 38000 samples and 1 label with 784 features"
   ]
  },
  {
   "cell_type": "code",
   "execution_count": 3,
   "metadata": {},
   "outputs": [
    {
     "name": "stdout",
     "output_type": "stream",
     "text": [
      "(38000,)\n",
      "(38000, 784)\n"
     ]
    }
   ],
   "source": [
    "#turn the training dataframe into numpy array \n",
    "label_data_train = df.to_numpy()\n",
    "\n",
    "#column vector for the labels (38000,)\n",
    "label_train = label_data_train[:,0] \n",
    "\n",
    "#( 38000 x 784 matrix for the training data  )\n",
    "data_train = label_data_train[:, 1:] \n",
    "print(label_train.shape)\n",
    "print(data_train.shape)\n",
    "\n",
    "#turn testing dataframe into numpy array \n",
    "label_data_test = df2.to_numpy()\n",
    "label_test = label_data_test[:,0]\n",
    "data_test = label_data_test[:,1:]\n"
   ]
  },
  {
   "cell_type": "code",
   "execution_count": 4,
   "metadata": {},
   "outputs": [],
   "source": [
    "#performs feature extraction \n",
    "#code taken from https://medium.com/@basu369victor/handwritten-digits-recognition-d3d383431845\n",
    "#images aren't all same length so don't need to worry about scaling\n",
    "import matplotlib.pyplot as plt\n",
    "from skimage.feature import hog\n",
    "list_hog = []\n",
    "list_hog1 = []\n",
    "for feature in data_train:\n",
    "    fd = hog(feature.reshape((28,28)), orientations=9, pixels_per_cell=(8,8),cells_per_block=(2,2),visualize=False ) #can probably optimize this\n",
    "    list_hog.append(fd) #4x4 seems to be optimal \n",
    "hog_features_train = np.array(list_hog, 'float64')\n",
    "\n",
    "#on testing data \n",
    "for feature in data_test:\n",
    "    fd = hog(feature.reshape((28,28)), orientations=9, pixels_per_cell=(8,8),cells_per_block=(2,2),visualize=False )\n",
    "    list_hog1.append(fd)\n",
    "hog_features_test = np.array(list_hog1, 'float64')\n"
   ]
  },
  {
   "cell_type": "code",
   "execution_count": 5,
   "metadata": {},
   "outputs": [
    {
     "name": "stdout",
     "output_type": "stream",
     "text": [
      "(4000, 144)\n",
      "(4000, 784)\n"
     ]
    },
    {
     "data": {
      "image/png": "[encoded data removed]",
      "text/plain": [
       "<Figure size 1440x1440 with 2 Axes>"
      ]
     },
     "metadata": {
      "needs_background": "light"
     },
     "output_type": "display_data"
    }
   ],
   "source": [
    "#hog visualization \n",
    "#code taken from https://scikit-image.org/docs/dev/auto_examples/features_detection/plot_hog.html\n",
    "import matplotlib.pyplot as plt\n",
    "print(hog_features_test.shape)\n",
    "print(data_test.shape)\n",
    "image = data_test[5,:].reshape((28,28)) #can do this for multiple images \n",
    "\n",
    "fd, hog_image = hog(image, orientations=9, pixels_per_cell=(8, 8),\n",
    "                    cells_per_block=(1, 1), visualize=True, multichannel=False)\n",
    "\n",
    "fig, (ax1, ax2) = plt.subplots(1, 2, figsize=(20, 20), sharex=True, sharey=True)\n",
    "\n",
    "ax1.axis('off')\n",
    "ax1.imshow(image, cmap=plt.cm.gray)\n",
    "ax1.set_title('Input image')\n",
    "\n",
    "# Rescale histogram for better display\n",
    "hog_image_rescaled = exposure.rescale_intensity(hog_image, in_range=(0, 10))\n",
    "\n",
    "ax2.axis('off')\n",
    "ax2.imshow(hog_image_rescaled, cmap=plt.cm.gray)\n",
    "ax2.set_title('Histogram of Oriented Gradients')\n",
    "plt.show()"
   ]
  },
  {
   "cell_type": "code",
   "execution_count": 6,
   "metadata": {},
   "outputs": [],
   "source": [
    "#unewighted KNN with euclidean distance for an instance \n",
    "#calculate using euclidean distance \n",
    "#would be data_test.shape[0]\n",
    "knn_predicts = []\n",
    "for i in range(data_test.shape[0]):\n",
    "    knn_predicts.append(knn_predict_instance(data_train, label_train, data_test[i,:], 3))\n"
   ]
  },
  {
   "cell_type": "code",
   "execution_count": 8,
   "metadata": {},
   "outputs": [
    {
     "name": "stdout",
     "output_type": "stream",
     "text": [
      "4000\n",
      "0.973\n",
      "Test accuracy: 97.3 %\n"
     ]
    }
   ],
   "source": [
    "test_accuracy = np.mean(knn_predicts == label_test)\n",
    "print(\"Test accuracy: {0} %\".format(test_accuracy*100))"
   ]
  },
  {
   "cell_type": "code",
   "execution_count": 9,
   "metadata": {},
   "outputs": [],
   "source": [
    "#Use sklearn library to try a KNN with HOG \n",
    "from sklearn.neighbors import KNeighborsClassifier\n",
    "neigh = KNeighborsClassifier(n_neighbors=3)\n",
    "neigh.fit(hog_features_train, label_train)\n",
    "knn_predictions = neigh.predict(hog_features_test)"
   ]
  },
  {
   "cell_type": "code",
   "execution_count": 10,
   "metadata": {},
   "outputs": [
    {
     "name": "stdout",
     "output_type": "stream",
     "text": [
      "Test accuracy: 94.325 %\n"
     ]
    }
   ],
   "source": [
    "test_accuracy = np.mean(knn_predictions == label_test)\n",
    "print(\"Test accuracy: {0} %\".format(test_accuracy*100))"
   ]
  }
 ],
 "metadata": {
  "kernelspec": {
   "display_name": "Python 3",
   "language": "python",
   "name": "python3"
  },
  "language_info": {
   "codemirror_mode": {
    "name": "ipython",
    "version": 3
   },
   "file_extension": ".py",
   "mimetype": "text/x-python",
   "name": "python",
   "nbconvert_exporter": "python",
   "pygments_lexer": "ipython3",
   "version": "3.9.4"
  }
 },
 "nbformat": 4,
 "nbformat_minor": 2
}
