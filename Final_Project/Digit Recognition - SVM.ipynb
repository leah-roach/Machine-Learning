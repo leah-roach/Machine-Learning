{
 "cells": [
  {
   "cell_type": "code",
   "execution_count": 1,
   "metadata": {},
   "outputs": [],
   "source": [
    "%matplotlib inline\n",
    "%load_ext autoreload\n",
    "%autoreload 2"
   ]
  },
  {
   "cell_type": "code",
   "execution_count": 2,
   "metadata": {},
   "outputs": [],
   "source": [
    "# Import required libraries\n",
    "import pandas as pd \n",
    "import numpy as np\n",
    "import os\n",
    "import matplotlib.pyplot as plt\n",
    "from plotutils import plot_data, plot_surface\n",
    "from SVM import kernel_svm_train, kernel_svm_predict\n",
    "from Multiclass_SVM import fit, predict\n",
    "from sklearn import preprocessing\n",
    "from crossval import cross_validate\n",
    "import matplotlib\n",
    "from sklearn.metrics import confusion_matrix, f1_score\n",
    "import seaborn as sns"
   ]
  },
  {
   "cell_type": "code",
   "execution_count": 3,
   "metadata": {},
   "outputs": [],
   "source": [
    "# Read the data using pandas\n",
    "df = pd.read_csv('digit-recognition/digit-recognition/train.csv')\n",
    "df2 = pd.read_csv('digit-recognition/digit-recognition/test.csv')\n",
    "\n",
    "#turn the training dataframe into numpy array \n",
    "label_data_train = df.to_numpy()\n",
    "\n",
    "#column vector for the labels (38000,)\n",
    "label_train = label_data_train[:,0] \n",
    "\n",
    "# (38000 x 784 matrix for the training data )\n",
    "data_train = label_data_train[:, 1:] \n",
    "\n",
    "# Turn testing dataframe into numpy array \n",
    "label_data_test = df2.to_numpy()\n",
    "label_test = label_data_test[:,0]\n",
    "data_test = label_data_test[:,1:]"
   ]
  },
  {
   "cell_type": "code",
   "execution_count": 4,
   "metadata": {},
   "outputs": [],
   "source": [
    "# Determine our dataset size for cross validation and training\n",
    "num_cv_splits = 50\n",
    "num_train_splits = int(num_cv_splits/2)\n",
    "\n",
    "# Initialize variables here for convenient use throughout\n",
    "num_labels = len(np.unique(label_train))\n",
    "c_vals = 10 ** np.linspace(-2, 1, 4)\n",
    "orders = [5, 6, 7, 8]\n",
    "num_folds = 2"
   ]
  },
  {
   "cell_type": "code",
   "execution_count": 5,
   "metadata": {},
   "outputs": [
    {
     "name": "stdout",
     "output_type": "stream",
     "text": [
      "CV Subset selection: 5\n"
     ]
    },
    {
     "data": {
      "image/png": "[encoded data removed]",
      "text/plain": [
       "<Figure size 432x288 with 1 Axes>"
      ]
     },
     "metadata": {},
     "output_type": "display_data"
    }
   ],
   "source": [
    "# We won't cross validation on the whole data set to save time. \n",
    "# Pick our subset by choosing the split with the most equal label distribution.\n",
    "\n",
    "frequencies = np.zeros((num_cv_splits, num_labels, 2))\n",
    "split_train_labels = np.split(label_train, num_cv_splits)\n",
    "\n",
    "for i in range(len(split_train_labels)):\n",
    "    (unique, counts) = np.unique(split_train_labels[i], return_counts=True)\n",
    "    frequencies[i] = np.asarray((unique, counts)).T\n",
    "    \n",
    "variances = np.zeros(len(frequencies))\n",
    "\n",
    "for i in range(len(frequencies)):\n",
    "    labels = frequencies[i][:, 0]\n",
    "    vals = frequencies[i][:, 1]\n",
    "    variances[i] = np.var(vals)\n",
    "    \n",
    "cv_subset_selection = np.argmin(variances)\n",
    "print(\"CV Subset selection: {0}\".format(cv_subset_selection))\n",
    "\n",
    "labels = frequencies[cv_subset_selection][:, 0]\n",
    "vals = frequencies[cv_subset_selection][:, 1]\n",
    "\n",
    "x = np.arange(len(labels))  # the label locations\n",
    "fig, ax = plt.subplots()\n",
    "rects1 = ax.bar(x - 0.25, vals, 0.5, label='vals')\n",
    "\n",
    "# Add some text for labels, title and custom x-axis tick labels, etc.\n",
    "ax.set_ylabel('Number of Occurances')\n",
    "ax.set_title('Subset {0} distribution'.format(cv_subset_selection))\n",
    "ax.set_xticks(x)\n",
    "ax.set_xticklabels(labels)\n",
    "ax.legend()\n",
    "\n",
    "fig.tight_layout()\n",
    "\n",
    "plt.show()"
   ]
  },
  {
   "cell_type": "code",
   "execution_count": 6,
   "metadata": {},
   "outputs": [
    {
     "name": "stdout",
     "output_type": "stream",
     "text": [
      "Training subset selection: 3\n"
     ]
    },
    {
     "data": {
      "image/png": "[encoded data removed]",
      "text/plain": [
       "<Figure size 432x288 with 1 Axes>"
      ]
     },
     "metadata": {},
     "output_type": "display_data"
    }
   ],
   "source": [
    "# We won't train on the whole data set either but will get a data subset larger than the CV subset. \n",
    "# Pick our subset by choosing the split with the most equal label distribution.\n",
    "\n",
    "frequencies = np.zeros((num_train_splits, num_labels, 2))\n",
    "split_train_labels = np.split(label_train, num_train_splits)\n",
    "\n",
    "for i in range(len(split_train_labels)):\n",
    "    (unique, counts) = np.unique(split_train_labels[i], return_counts=True)\n",
    "    frequencies[i] = np.asarray((unique, counts)).T\n",
    "    \n",
    "variances = np.zeros(len(frequencies))\n",
    "\n",
    "for i in range(len(frequencies)):\n",
    "    labels = frequencies[i][:, 0]\n",
    "    vals = frequencies[i][:, 1]\n",
    "    variances[i] = np.var(vals)\n",
    "    \n",
    "training_subset_selection = np.argmin(variances)\n",
    "print(\"Training subset selection: {0}\".format(training_subset_selection))\n",
    "\n",
    "labels = frequencies[training_subset_selection][:, 0]\n",
    "vals = frequencies[training_subset_selection][:, 1]\n",
    "\n",
    "x = np.arange(len(labels))  # the label locations\n",
    "fig, ax = plt.subplots()\n",
    "rects1 = ax.bar(x - 0.25, vals, 0.5, label='vals')\n",
    "\n",
    "# Add some text for labels, title and custom x-axis tick labels, etc.\n",
    "ax.set_ylabel('Number of Occurances')\n",
    "ax.set_title('Subset {0} distribution'.format(training_subset_selection))\n",
    "ax.set_xticks(x)\n",
    "ax.set_xticklabels(labels)\n",
    "ax.legend()\n",
    "\n",
    "fig.tight_layout()\n",
    "\n",
    "plt.show()"
   ]
  },
  {
   "cell_type": "code",
   "execution_count": 7,
   "metadata": {},
   "outputs": [],
   "source": [
    "#Split the data set based on the subset selections above \n",
    "\n",
    "split_cv_data = np.split(data_train, num_cv_splits)[cv_subset_selection]\n",
    "split_cv_labels = np.split(label_train, num_cv_splits)[cv_subset_selection]\n",
    "\n",
    "split_train_data = np.split(data_train, num_train_splits)[training_subset_selection]\n",
    "split_train_labels = np.split(label_train, num_train_splits)[training_subset_selection]"
   ]
  },
  {
   "cell_type": "code",
   "execution_count": 8,
   "metadata": {},
   "outputs": [
    {
     "name": "stdout",
     "output_type": "stream",
     "text": [
      "Determined best parameters for Polynomial Kernel: {'kernel': 'polynomial', 'C': 0.01, 'order': 7}\n"
     ]
    }
   ],
   "source": [
    "# Run cross validation on polynomial kernel to determine best parameters\n",
    "\n",
    "best_params = []\n",
    "best_score = 0\n",
    "\n",
    "for j in range(len(c_vals)):\n",
    "    for k in range(len(orders)):\n",
    "        params = {\n",
    "            'kernel': 'polynomial',\n",
    "            'C': c_vals[j],\n",
    "            'order': orders[k]\n",
    "        }\n",
    "\n",
    "        cv_score, _ = cross_validate(fit, predict, split_cv_data, split_cv_labels, num_folds, params)\n",
    "        if cv_score > best_score:\n",
    "            best_score = cv_score\n",
    "            best_params = params\n",
    "print(\"Determined best parameters for Polynomial Kernel: {0}\".format(best_params))"
   ]
  },
  {
   "cell_type": "code",
   "execution_count": 9,
   "metadata": {},
   "outputs": [
    {
     "name": "stdout",
     "output_type": "stream",
     "text": [
      "Finished fitting binary model 0\n",
      "Finished fitting binary model 1\n",
      "Finished fitting binary model 2\n",
      "Finished fitting binary model 3\n",
      "Finished fitting binary model 4\n",
      "Finished fitting binary model 5\n",
      "Finished fitting binary model 6\n",
      "Finished fitting binary model 7\n",
      "Finished fitting binary model 8\n",
      "Finished fitting binary model 9\n",
      "Test accuracy: 93.575 %\n"
     ]
    }
   ],
   "source": [
    "# Run polynomial kernel with the selected parameters\n",
    "\n",
    "model = fit(split_train_data, split_train_labels, best_params, True)\n",
    "predictions = predict(data_test.T, model)\n",
    "\n",
    "test_accuracy = np.mean(predictions == label_test)\n",
    "print(\"Test accuracy: {0} %\".format(test_accuracy*100))"
   ]
  },
  {
   "cell_type": "code",
   "execution_count": 10,
   "metadata": {},
   "outputs": [
    {
     "name": "stdout",
     "output_type": "stream",
     "text": [
      "Determined best parameters for Linear Kernel: {'kernel': 'linear', 'C': 0.01}\n"
     ]
    }
   ],
   "source": [
    "# Run cross validation on linear kernel to determine best parameters\n",
    "\n",
    "best_params = []\n",
    "best_score = 0\n",
    "\n",
    "for j in range(len(c_vals)):\n",
    "    params = {\n",
    "        'kernel': 'linear',\n",
    "        'C': c_vals[j],\n",
    "    }\n",
    "\n",
    "    cv_score, _ = cross_validate(fit, predict, split_cv_data, split_cv_labels, num_folds, params)\n",
    "    if cv_score > best_score:\n",
    "        best_score = cv_score\n",
    "        best_params = params\n",
    "print(\"Determined best parameters for Linear Kernel: {0}\".format(best_params))"
   ]
  },
  {
   "cell_type": "code",
   "execution_count": 11,
   "metadata": {},
   "outputs": [
    {
     "name": "stderr",
     "output_type": "stream",
     "text": [
      "C:\\Users\\nicho\\Documents\\Junior Year Semester 2\\Machine Learning\\Machine-Learning\\Final_Project\\Multiclass_SVM.py:119: RuntimeWarning: invalid value encountered in greater\n",
      "  sv_indices = alphas > tolerance\n",
      "C:\\Users\\nicho\\Documents\\Junior Year Semester 2\\Machine Learning\\Machine-Learning\\Final_Project\\Multiclass_SVM.py:127: RuntimeWarning: invalid value encountered in greater\n",
      "  alphas > tolerance, alphas < params['C'] - tolerance)\n",
      "C:\\Users\\nicho\\Documents\\Junior Year Semester 2\\Machine Learning\\Machine-Learning\\Final_Project\\Multiclass_SVM.py:127: RuntimeWarning: invalid value encountered in less\n",
      "  alphas > tolerance, alphas < params['C'] - tolerance)\n"
     ]
    },
    {
     "name": "stdout",
     "output_type": "stream",
     "text": [
      "Finished fitting binary model 0\n",
      "Finished fitting binary model 1\n",
      "Finished fitting binary model 2\n",
      "Finished fitting binary model 3\n",
      "Finished fitting binary model 4\n",
      "Finished fitting binary model 5\n",
      "Finished fitting binary model 6\n",
      "Finished fitting binary model 7\n",
      "Finished fitting binary model 8\n",
      "Finished fitting binary model 9\n",
      "Test accuracy: 46.525 %\n"
     ]
    }
   ],
   "source": [
    "# Run linear kernel with the selected parameters\n",
    "\n",
    "model = fit(split_train_data, split_train_labels, best_params, True)\n",
    "predictions = predict(data_test.T, model)\n",
    "\n",
    "test_accuracy = np.mean(predictions == label_test)\n",
    "print(\"Test accuracy: {0} %\".format(test_accuracy*100))"
   ]
  },
  {
   "cell_type": "code",
   "execution_count": 12,
   "metadata": {},
   "outputs": [
    {
     "data": {
      "text/plain": [
       "<matplotlib.axes._subplots.AxesSubplot at 0x27c1faa5a58>"
      ]
     },
     "execution_count": 12,
     "metadata": {},
     "output_type": "execute_result"
    },
    {
     "data": {
      "image/png": "[encoded data removed]",
      "text/plain": [
       "<Figure size 432x288 with 3 Axes>"
      ]
     },
     "metadata": {},
     "output_type": "display_data"
    }
   ],
   "source": [
    "#Confusion Matrix\n",
    "#https://medium.com/@dtuk81/confusion-matrix-visualization-fc31e3f30fea\n",
    "#code to create a confusion matrix using scikit-learn and seaborn \n",
    "cf_matrix = confusion_matrix(label_test, predictions)\n",
    "sns.heatmap(cf_matrix, annot=True)\n",
    "sns.heatmap(cf_matrix/np.sum(cf_matrix), annot=True, \n",
    "            fmt='.2%', cmap='Blues')"
   ]
  },
  {
   "cell_type": "code",
   "execution_count": 13,
   "metadata": {},
   "outputs": [
    {
     "name": "stderr",
     "output_type": "stream",
     "text": [
      "C:\\Users\\nicho\\Anaconda3\\lib\\site-packages\\sklearn\\metrics\\classification.py:1135: UndefinedMetricWarning: F-score is ill-defined and being set to 0.0 in labels with no predicted samples.\n",
      "  'precision', 'predicted', average, warn_for)\n",
      "C:\\Users\\nicho\\Anaconda3\\lib\\site-packages\\sklearn\\metrics\\classification.py:1135: UndefinedMetricWarning: F-score is ill-defined and being set to 0.0 in labels with no predicted samples.\n",
      "  'precision', 'predicted', average, warn_for)\n"
     ]
    },
    {
     "data": {
      "text/plain": [
       "0.3363089971552447"
      ]
     },
     "execution_count": 13,
     "metadata": {},
     "output_type": "execute_result"
    }
   ],
   "source": [
    "#F-score\n",
    "#https://scikit-learn.org/stable/modules/generated/sklearn.metrics.f1_score.html\n",
    "#computation of the f1_score using sci-kit learn \n",
    "#F1 makes more sense as want to maximize number of correct scores (care more about precision than recall for application)\n",
    "#F2 cares more about correctly classifying (which is beneficial in other application)\n",
    "#Getting an error of some sort \n",
    "f1_score(label_test, predictions, average='macro')\n",
    "f1_score(label_test, predictions, average='micro')\n",
    "f1_score(label_test, predictions, average='weighted')"
   ]
  },
  {
   "cell_type": "code",
   "execution_count": 14,
   "metadata": {},
   "outputs": [],
   "source": [
    "#Maybe try ROC? "
   ]
  }
 ],
 "metadata": {
  "kernelspec": {
   "display_name": "Python 3",
   "language": "python",
   "name": "python3"
  },
  "language_info": {
   "codemirror_mode": {
    "name": "ipython",
    "version": 3
   },
   "file_extension": ".py",
   "mimetype": "text/x-python",
   "name": "python",
   "nbconvert_exporter": "python",
   "pygments_lexer": "ipython3",
   "version": "3.6.5"
  }
 },
 "nbformat": 4,
 "nbformat_minor": 4
}
