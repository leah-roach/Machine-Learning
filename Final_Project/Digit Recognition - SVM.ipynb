{
 "cells": [
  {
   "cell_type": "code",
   "execution_count": 1,
   "metadata": {},
   "outputs": [],
   "source": [
    "import pandas as pd \n",
    "import numpy as np\n",
    "import os\n",
    "import matplotlib.pyplot as plt\n",
    "from plotutils import plot_data, plot_surface\n",
    "from SVM import kernel_svm_train, kernel_svm_predict\n",
    "from sklearn import preprocessing\n",
    "from crossval import cross_validate"
   ]
  },
  {
   "cell_type": "code",
   "execution_count": 2,
   "metadata": {},
   "outputs": [
    {
     "name": "stdout",
     "output_type": "stream",
     "text": [
      "(38000,)\n",
      "(38000, 784)\n"
     ]
    }
   ],
   "source": [
    "# Read the data using pandas\n",
    "df = pd.read_csv('digit-recognition/digit-recognition/train.csv')\n",
    "df2 = pd.read_csv('digit-recognition/digit-recognition/test.csv')\n",
    "\n",
    "#turn the training dataframe into numpy array \n",
    "label_data_train = df.to_numpy()\n",
    "\n",
    "#column vector for the labels (38000,)\n",
    "label_train = label_data_train[:,0] \n",
    "\n",
    "# (38000 x 784 matrix for the training data )\n",
    "data_train = label_data_train[:, 1:] \n",
    "print(label_train.shape)\n",
    "print(data_train.shape)\n",
    "\n",
    "# Turn testing dataframe into numpy array \n",
    "label_data_test = df2.to_numpy()\n",
    "label_test = label_data_test[:,0]\n",
    "data_test = label_data_test[:,1:]\n",
    "\n",
    "masked_train_labels = np.full(label_train.shape, -1)\n",
    "masked_test_labels = np.full(label_test.shape, -1)"
   ]
  },
  {
   "cell_type": "code",
   "execution_count": 3,
   "metadata": {},
   "outputs": [],
   "source": [
    "c_vals = 10 ** np.linspace(-3, 1, 5)\n",
    "sigmas = np.linspace(0.1, 1.5, 15)\n",
    "orders = [2, 3, 4, 5]\n",
    "norms = ['l1', 'l2', 'max']\n",
    "num_folds = 4\n",
    "sets = len(np.unique(label_train))\n",
    "test_accuracy = np.zeros(sets)"
   ]
  },
  {
   "cell_type": "code",
   "execution_count": 17,
   "metadata": {},
   "outputs": [
    {
     "name": "stdout",
     "output_type": "stream",
     "text": [
      "Test accuracy for 0: 0.9\n",
      "Test accuracy for 1: 0.8885\n",
      "Test accuracy for 2: 0.8925\n",
      "Test accuracy for 3: 0.9075\n",
      "Test accuracy for 4: 0.90275\n",
      "Test accuracy for 5: 0.90525\n",
      "Test accuracy for 6: 0.89675\n",
      "Test accuracy for 7: 0.89775\n",
      "Test accuracy for 8: 0.90425\n",
      "Test accuracy for 9: 0.90475\n",
      "Overall accuracy: 0.9\n"
     ]
    }
   ],
   "source": [
    "# Run rbf kernel with no cross validation (random value selection)\n",
    "for i in range(sets):\n",
    "    train_indices = np.where(label_train==i)[0]\n",
    "    test_indices = np.where(label_test==i)[0]\n",
    "\n",
    "    masked_train_labels = np.full(label_train.shape, -1)\n",
    "    masked_train_labels[train_indices] = 1\n",
    "\n",
    "    masked_test_labels = np.full(label_test.shape, -1)\n",
    "    masked_test_labels[test_indices] = 1\n",
    "\n",
    "    best_params = {}\n",
    "    best_params['kernel'] = 'rbf'\n",
    "    best_params['C'] = 1\n",
    "    best_params['sigma'] = .1\n",
    "\n",
    "    split_train_data = np.split(data_train, 50)[0]\n",
    "    split_train_labels = np.split(masked_train_labels, 50)[0]\n",
    "    \n",
    "    split_train_data_normalized = preprocessing.normalize(split_train_data, norm='l2')\n",
    "\n",
    "    model = kernel_svm_train(split_train_data_normalized.T, split_train_labels, best_params)\n",
    "    predictions = kernel_svm_predict(data_test.T, model)\n",
    "    test_accuracy[i] = np.mean(predictions[0] == masked_test_labels)\n",
    "    print(\"Test accuracy for {0}: {1}\".format(i, test_accuracy[i]))\n",
    "    \n",
    "print(\"Overall accuracy: {0}\".format(np.mean(test_accuracy)))"
   ]
  },
  {
   "cell_type": "code",
   "execution_count": 18,
   "metadata": {},
   "outputs": [
    {
     "name": "stdout",
     "output_type": "stream",
     "text": [
      "Test accuracy for 0: 0.94325\n",
      "Test accuracy for 1: 0.6005\n",
      "Test accuracy for 2: 0.97325\n",
      "Test accuracy for 3: 0.929\n",
      "Test accuracy for 4: 0.7355\n",
      "Test accuracy for 5: 0.8505\n",
      "Test accuracy for 6: 0.9025\n",
      "Test accuracy for 7: 0.81075\n",
      "Test accuracy for 8: 0.95425\n",
      "Test accuracy for 9: 0.73225\n",
      "Overall accuracy: 0.8431750000000001\n"
     ]
    }
   ],
   "source": [
    "# Run polynomial kernel with no cross validation (random value selection)\n",
    "for i in range(sets):\n",
    "    train_indices = np.where(label_train==i)[0]\n",
    "    test_indices = np.where(label_test==i)[0]\n",
    "\n",
    "    masked_train_labels = np.full(label_train.shape, -1)\n",
    "    masked_train_labels[train_indices] = 1\n",
    "\n",
    "    masked_test_labels = np.full(label_test.shape, -1)\n",
    "    masked_test_labels[test_indices] = 1\n",
    "\n",
    "    best_params = {}\n",
    "    best_params['kernel'] = 'polynomial'\n",
    "    best_params['C'] = .2\n",
    "    best_params['order'] = 5\n",
    "\n",
    "    split_train_data = np.split(data_train, 50)[0]\n",
    "    split_train_labels = np.split(masked_train_labels, 50)[0]\n",
    "    \n",
    "    split_train_data_normalized = preprocessing.normalize(split_train_data, norm='l1')\n",
    "\n",
    "    model = kernel_svm_train(split_train_data_normalized.T, split_train_labels, best_params)\n",
    "    predictions = kernel_svm_predict(data_test.T, model)\n",
    "    test_accuracy[i] = np.mean(predictions[0] == masked_test_labels)\n",
    "    print(\"Test accuracy for {0}: {1}\".format(i, test_accuracy[i]))\n",
    "    \n",
    "print(\"Overall accuracy: {0}\".format(np.mean(test_accuracy)))"
   ]
  },
  {
   "cell_type": "code",
   "execution_count": 19,
   "metadata": {},
   "outputs": [
    {
     "name": "stdout",
     "output_type": "stream",
     "text": [
      "Test accuracy for 0: 0.8735\n",
      "Test accuracy for 1: 0.47175\n",
      "Test accuracy for 2: 0.83975\n",
      "Test accuracy for 3: 0.68575\n",
      "Test accuracy for 4: 0.61125\n",
      "Test accuracy for 5: 0.68275\n",
      "Test accuracy for 6: 0.65\n",
      "Test accuracy for 7: 0.77975\n",
      "Test accuracy for 8: 0.42025\n",
      "Test accuracy for 9: 0.2545\n",
      "Overall accuracy: 0.6269250000000001\n"
     ]
    }
   ],
   "source": [
    "# Run Linear kernel with no cross validation (random value selection)\n",
    "for i in range(sets):\n",
    "    train_indices = np.where(label_train==i)[0]\n",
    "    test_indices = np.where(label_test==i)[0]\n",
    "\n",
    "    masked_train_labels = np.full(label_train.shape, -1)\n",
    "    masked_train_labels[train_indices] = 1\n",
    "\n",
    "    masked_test_labels = np.full(label_test.shape, -1)\n",
    "    masked_test_labels[test_indices] = 1\n",
    "\n",
    "    best_params = {}\n",
    "    best_params['kernel'] = 'linear'\n",
    "    best_params['C'] = 1\n",
    "\n",
    "    split_train_data = np.split(data_train, 50)[0]\n",
    "    split_train_labels = np.split(masked_train_labels, 50)[0]\n",
    "    \n",
    "    split_train_data_normalized = preprocessing.normalize(split_train_data, norm='l1')\n",
    "\n",
    "    model = kernel_svm_train(split_train_data_normalized.T, split_train_labels, best_params)\n",
    "    predictions = kernel_svm_predict(data_test.T, model)\n",
    "    test_accuracy[i] = np.mean(predictions[0] == masked_test_labels)\n",
    "    print(\"Test accuracy for {0}: {1}\".format(i, test_accuracy[i]))\n",
    "    \n",
    "print(\"Overall accuracy: {0}\".format(np.mean(test_accuracy)))"
   ]
  },
  {
   "cell_type": "code",
   "execution_count": 20,
   "metadata": {},
   "outputs": [
    {
     "name": "stdout",
     "output_type": "stream",
     "text": [
      "Test accuracy for 0: 0.9 (with C=10.0, sigma=0.1, norm=l1)\n",
      "Test accuracy for 1: 0.8885 (with C=10.0, sigma=0.4, norm=l2)\n",
      "Test accuracy for 2: 0.8925 (with C=10.0, sigma=0.1, norm=l1)\n",
      "Test accuracy for 3: 0.9075 (with C=10.0, sigma=0.1, norm=l1)\n",
      "Test accuracy for 4: 0.90275 (with C=10.0, sigma=0.1, norm=l1)\n",
      "Test accuracy for 5: 0.90525 (with C=10.0, sigma=0.1, norm=l1)\n",
      "Test accuracy for 6: 0.89675 (with C=10.0, sigma=0.1, norm=l1)\n",
      "Test accuracy for 7: 0.10225 (with C=10.0, sigma=0.1, norm=l1)\n",
      "Test accuracy for 8: 0.90425 (with C=10.0, sigma=0.1, norm=l1)\n",
      "Test accuracy for 9: 0.90475 (with C=10.0, sigma=0.4, norm=l2)\n",
      "Overall accuracy: 0.8204500000000001\n"
     ]
    }
   ],
   "source": [
    "# Run rbf with CV to determine best values\n",
    "for i in range(sets):\n",
    "    train_indices = np.where(label_train==i)[0]\n",
    "    test_indices = np.where(label_test==i)[0]\n",
    "\n",
    "    masked_train_labels = np.full(label_train.shape, -1)\n",
    "    masked_train_labels[train_indices] = 1\n",
    "\n",
    "    masked_test_labels = np.full(label_test.shape, -1)\n",
    "    masked_test_labels[test_indices] = 1\n",
    "\n",
    "    split_train_data = np.split(data_train, 100)[0]\n",
    "    split_train_labels = np.split(masked_train_labels, 100)[0]\n",
    "        \n",
    "    best_params = []\n",
    "    best_score = 0\n",
    "    \n",
    "    for j in range(len(c_vals)):\n",
    "        for k in range(len(orders)):\n",
    "            for l in range(len(norms)):\n",
    "\n",
    "                params = {\n",
    "                    'kernel': 'rbf',\n",
    "                    'C': c_vals[j],\n",
    "                    'sigma': sigmas[k],\n",
    "                    'norm': norms[l]\n",
    "                }\n",
    "\n",
    "                split_train_data_normalized = preprocessing.normalize(split_train_data, params['norm'])\n",
    "\n",
    "                cv_score, _ = cross_validate(kernel_svm_train, kernel_svm_predict, split_train_data_normalized.T, split_train_labels, num_folds, params)\n",
    "                if cv_score > best_score:\n",
    "                    best_score = cv_score\n",
    "                    best_params = params\n",
    "               \n",
    "    split_train_data_normalized = preprocessing.normalize(split_train_data, best_params['norm'])\n",
    "\n",
    "    model = kernel_svm_train(split_train_data_normalized.T, split_train_labels, best_params)\n",
    "    predictions = kernel_svm_predict(data_test.T, model)\n",
    "    test_accuracy[i] = np.mean(predictions[0] == masked_test_labels)\n",
    "    print(\"Test accuracy for {0}: {1} (with C={2}, sigma={3}, norm={4})\".format(i, test_accuracy[i], best_params['C'], best_params['sigma'], best_params['norm']))\n",
    "\n",
    "print(\"Overall accuracy: {0}\".format(np.mean(test_accuracy)))"
   ]
  },
  {
   "cell_type": "code",
   "execution_count": 10,
   "metadata": {},
   "outputs": [
    {
     "name": "stdout",
     "output_type": "stream",
     "text": [
      "Test accuracy for 0: 0.84025 (with C=0.1, order=5, norm=l2)\n",
      "Test accuracy for 1: 0.927 (with C=0.1, order=4, norm=l2)\n",
      "Test accuracy for 2: 0.95775 (with C=0.1, order=5, norm=l2)\n",
      "Test accuracy for 3: 0.69225 (with C=1.0, order=2, norm=l2)\n",
      "Test accuracy for 4: 0.92125 (with C=0.1, order=5, norm=l2)\n",
      "Test accuracy for 5: 0.94825 (with C=0.001, order=2, norm=max)\n",
      "Test accuracy for 6: 0.89125 (with C=1.0, order=3, norm=l2)\n",
      "Test accuracy for 7: 0.966 (with C=0.1, order=5, norm=l2)\n",
      "Test accuracy for 8: 0.40975 (with C=1.0, order=3, norm=l2)\n",
      "Test accuracy for 9: 0.6345 (with C=0.1, order=5, norm=l2)\n",
      "Overall accuracy: 0.818825\n"
     ]
    }
   ],
   "source": [
    "# Run polynomial with CV to determine best values\n",
    "for i in range(sets):\n",
    "    train_indices = np.where(label_train==i)[0]\n",
    "    test_indices = np.where(label_test==i)[0]\n",
    "\n",
    "    masked_train_labels = np.full(label_train.shape, -1)\n",
    "    masked_train_labels[train_indices] = 1\n",
    "\n",
    "    masked_test_labels = np.full(label_test.shape, -1)\n",
    "    masked_test_labels[test_indices] = 1\n",
    "\n",
    "    split_train_data = np.split(data_train, 100)[0]\n",
    "    split_train_labels = np.split(masked_train_labels, 100)[0]\n",
    "        \n",
    "    best_params = []\n",
    "    best_score = 0\n",
    "    \n",
    "    for j in range(len(c_vals)):\n",
    "        for k in range(len(orders)):\n",
    "            for l in range(len(norms)):\n",
    "\n",
    "                params = {\n",
    "                    'kernel': 'polynomial',\n",
    "                    'C': c_vals[j],\n",
    "                    'order': orders[k],\n",
    "                    'norm': norms[l]\n",
    "                }\n",
    "\n",
    "                split_train_data_normalized = preprocessing.normalize(split_train_data, params['norm'])\n",
    "\n",
    "                cv_score, _ = cross_validate(kernel_svm_train, kernel_svm_predict, split_train_data_normalized.T, split_train_labels, num_folds, params)\n",
    "                if cv_score > best_score:\n",
    "                    best_score = cv_score\n",
    "                    best_params = params\n",
    "               \n",
    "    split_train_data_normalized = preprocessing.normalize(split_train_data, best_params['norm'])\n",
    "\n",
    "    model = kernel_svm_train(split_train_data_normalized.T, split_train_labels, best_params)\n",
    "    predictions = kernel_svm_predict(data_test.T, model)\n",
    "    test_accuracy[i] = np.mean(predictions[0] == masked_test_labels)\n",
    "    print(\"Test accuracy for {0}: {1} (with C={2}, order={3}, norm={4})\".format(i, test_accuracy[i], best_params['C'], best_params['order'], best_params['norm']))\n",
    "\n",
    "print(\"Overall accuracy: {0}\".format(np.mean(test_accuracy)))"
   ]
  },
  {
   "cell_type": "code",
   "execution_count": 12,
   "metadata": {},
   "outputs": [
    {
     "name": "stdout",
     "output_type": "stream",
     "text": [
      "Test accuracy for 0: 0.9\n",
      "Test accuracy for 1: 0.8885\n",
      "Test accuracy for 2: 0.8925\n",
      "Test accuracy for 3: 0.9075\n",
      "Test accuracy for 4: 0.90275\n",
      "Test accuracy for 5: 0.90525\n",
      "Test accuracy for 6: 0.89675\n",
      "Test accuracy for 7: 0.89775\n",
      "Test accuracy for 8: 0.90425\n",
      "Test accuracy for 9: 0.90475\n",
      "Overall accuracy: 0.9\n"
     ]
    }
   ],
   "source": [
    "from sklearn.datasets import make_moons\n",
    "from sklearn.preprocessing import StandardScaler\n",
    "from sklearn.svm import SVC\n",
    "\n",
    "# scale features\n",
    "scaler = StandardScaler()\n",
    "X_scaled = scaler.fit_transform(data_train)\n",
    "\n",
    "# Run rbf kernel with no cross validation (random value selection)\n",
    "for i in range(sets):\n",
    "    train_indices = np.where(label_train==i)[0]\n",
    "    test_indices = np.where(label_test==i)[0]\n",
    "\n",
    "    masked_train_labels = np.full(label_train.shape, -1)\n",
    "    masked_train_labels[train_indices] = 1\n",
    "\n",
    "    masked_test_labels = np.full(label_test.shape, -1)\n",
    "    masked_test_labels[test_indices] = 1\n",
    "\n",
    "    best_params = {}\n",
    "    best_params['kernel'] = 'poly'\n",
    "    best_params['C'] = 1\n",
    "    best_params['sigma'] = .1\n",
    "\n",
    "    split_train_data = np.split(X_scaled, 50)[0]\n",
    "    split_train_labels = np.split(masked_train_labels, 50)[0]\n",
    "    \n",
    "#     split_train_data_normalized = preprocessing.normalize(split_train_data, norm='l2')\n",
    "\n",
    "    model = kernel_svm_train(split_train_data.T, split_train_labels, best_params)\n",
    "    predictions = kernel_svm_predict(data_test.T, model)\n",
    "    test_accuracy[i] = np.mean(predictions[0] == masked_test_labels)\n",
    "    print(\"Test accuracy for {0}: {1}\".format(i, test_accuracy[i]))\n",
    "    \n",
    "print(\"Overall accuracy: {0}\".format(np.mean(test_accuracy)))"
   ]
  },
  {
   "cell_type": "code",
   "execution_count": 14,
   "metadata": {},
   "outputs": [
    {
     "name": "stdout",
     "output_type": "stream",
     "text": [
      "scores shape: (10, 4000)\n",
      "Test accuracy: 0.74025\n"
     ]
    }
   ],
   "source": [
    "# Run polynomial kernel with no cross validation (random value selection)\n",
    "scores = np.zeros((sets,len(label_test)))\n",
    "for i in range(sets):\n",
    "    train_indices = np.where(label_train==i)[0]\n",
    "    test_indices = np.where(label_test==i)[0]\n",
    "\n",
    "    masked_train_labels = np.full(label_train.shape, -1)\n",
    "    masked_train_labels[train_indices] = 1\n",
    "\n",
    "    masked_test_labels = np.full(label_test.shape, -1)\n",
    "    masked_test_labels[test_indices] = 1\n",
    "\n",
    "    best_params = {}\n",
    "    best_params['kernel'] = 'polynomial'\n",
    "    best_params['C'] = .2\n",
    "    best_params['order'] = 5\n",
    "\n",
    "    split_train_data = np.split(data_train, 50)[0]\n",
    "    split_train_labels = np.split(masked_train_labels, 50)[0]\n",
    "    \n",
    "    split_train_data_normalized = preprocessing.normalize(split_train_data, norm='l1')\n",
    "\n",
    "    model = kernel_svm_train(split_train_data_normalized.T, split_train_labels, best_params)\n",
    "    predictions = kernel_svm_predict(data_test.T, model)\n",
    "    scores[i] = predictions[1]\n",
    "\n",
    "label_choice = np.argmax(scores, axis=0)\n",
    "\n",
    "test_accuracy = np.mean(label_choice == label_test)\n",
    "print(\"Test accuracy: {0}\".format(test_accuracy))"
   ]
  },
  {
   "cell_type": "code",
   "execution_count": null,
   "metadata": {},
   "outputs": [],
   "source": []
  }
 ],
 "metadata": {
  "kernelspec": {
   "display_name": "Python 3",
   "language": "python",
   "name": "python3"
  },
  "language_info": {
   "codemirror_mode": {
    "name": "ipython",
    "version": 3
   },
   "file_extension": ".py",
   "mimetype": "text/x-python",
   "name": "python",
   "nbconvert_exporter": "python",
   "pygments_lexer": "ipython3",
   "version": "3.9.4"
  }
 },
 "nbformat": 4,
 "nbformat_minor": 4
}
