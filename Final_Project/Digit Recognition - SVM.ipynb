{
 "cells": [
  {
   "cell_type": "code",
   "execution_count": 1,
   "metadata": {},
   "outputs": [],
   "source": [
    "import pandas as pd \n",
    "import numpy as np\n",
    "import os\n",
    "import matplotlib.pyplot as plt\n",
    "from plotutils import plot_data, plot_surface\n",
    "from kernelsvm import SVM\n",
    "from sklearn.datasets import load_digits\n",
    "from SVM import kernel_svm_train, kernel_svm_predict"
   ]
  },
  {
   "cell_type": "code",
   "execution_count": 2,
   "metadata": {},
   "outputs": [
    {
     "name": "stdout",
     "output_type": "stream",
     "text": [
      "    label  pixel0  pixel1  pixel2  pixel3  pixel4  pixel5  pixel6  pixel7  \\\n",
      "0       8       0       0       0       0       0       0       0       0   \n",
      "1       8       0       0       0       0       0       0       0       0   \n",
      "2       0       0       0       0       0       0       0       0       0   \n",
      "3       5       0       0       0       0       0       0       0       0   \n",
      "4       0       0       0       0       0       0       0       0       0   \n",
      "5       0       0       0       0       0       0       0       0       0   \n",
      "6       3       0       0       0       0       0       0       0       0   \n",
      "7       8       0       0       0       0       0       0       0       0   \n",
      "8       2       0       0       0       0       0       0       0       0   \n",
      "9       1       0       0       0       0       0       0       0       0   \n",
      "10      2       0       0       0       0       0       0       0       0   \n",
      "11      5       0       0       0       0       0       0       0       0   \n",
      "12      6       0       0       0       0       0       0       0       0   \n",
      "13      3       0       0       0       0       0       0       0       0   \n",
      "14      0       0       0       0       0       0       0       0       0   \n",
      "15      6       0       0       0       0       0       0       0       0   \n",
      "16      6       0       0       0       0       0       0       0       0   \n",
      "17      1       0       0       0       0       0       0       0       0   \n",
      "18      3       0       0       0       0       0       0       0       0   \n",
      "19      9       0       0       0       0       0       0       0       0   \n",
      "\n",
      "    pixel8  ...  pixel774  pixel775  pixel776  pixel777  pixel778  pixel779  \\\n",
      "0        0  ...         0         0         0         0         0         0   \n",
      "1        0  ...         0         0         0         0         0         0   \n",
      "2        0  ...         0         0         0         0         0         0   \n",
      "3        0  ...         0         0         0         0         0         0   \n",
      "4        0  ...         0         0         0         0         0         0   \n",
      "5        0  ...         0         0         0         0         0         0   \n",
      "6        0  ...         0         0         0         0         0         0   \n",
      "7        0  ...         0         0         0         0         0         0   \n",
      "8        0  ...         0         0         0         0         0         0   \n",
      "9        0  ...         0         0         0         0         0         0   \n",
      "10       0  ...         0         0         0         0         0         0   \n",
      "11       0  ...         0         0         0         0         0         0   \n",
      "12       0  ...         0         0         0         0         0         0   \n",
      "13       0  ...         0         0         0         0         0         0   \n",
      "14       0  ...         0         0         0         0         0         0   \n",
      "15       0  ...         0         0         0         0         0         0   \n",
      "16       0  ...         0         0         0         0         0         0   \n",
      "17       0  ...         0         0         0         0         0         0   \n",
      "18       0  ...         0         0         0         0         0         0   \n",
      "19       0  ...         0         0         0         0         0         0   \n",
      "\n",
      "    pixel780  pixel781  pixel782  pixel783  \n",
      "0          0         0         0         0  \n",
      "1          0         0         0         0  \n",
      "2          0         0         0         0  \n",
      "3          0         0         0         0  \n",
      "4          0         0         0         0  \n",
      "5          0         0         0         0  \n",
      "6          0         0         0         0  \n",
      "7          0         0         0         0  \n",
      "8          0         0         0         0  \n",
      "9          0         0         0         0  \n",
      "10         0         0         0         0  \n",
      "11         0         0         0         0  \n",
      "12         0         0         0         0  \n",
      "13         0         0         0         0  \n",
      "14         0         0         0         0  \n",
      "15         0         0         0         0  \n",
      "16         0         0         0         0  \n",
      "17         0         0         0         0  \n",
      "18         0         0         0         0  \n",
      "19         0         0         0         0  \n",
      "\n",
      "[20 rows x 785 columns]\n",
      "(38000,)\n",
      "(38000, 784)\n"
     ]
    }
   ],
   "source": [
    "# Read the data using pandas\n",
    "df = pd.read_csv('digit-recognition/digit-recognition/train.csv')\n",
    "df2 = pd.read_csv('digit-recognition/digit-recognition/test.csv')\n",
    "\n",
    "print(df.head(20))\n",
    "\n",
    "#turn the training dataframe into numpy array \n",
    "label_data_train = df.to_numpy()\n",
    "\n",
    "#column vector for the labels (38000,)\n",
    "label_train = label_data_train[:,0] \n",
    "\n",
    "# (38000 x 784 matrix for the training data )\n",
    "data_train = label_data_train[:, 1:] \n",
    "print(label_train.shape)\n",
    "print(data_train.shape)\n",
    "\n",
    "# Turn testing dataframe into numpy array \n",
    "label_data_test = df2.to_numpy()\n",
    "label_test = label_data_test[:,0]\n",
    "data_test = label_data_test[:,1:]"
   ]
  },
  {
   "cell_type": "code",
   "execution_count": 18,
   "metadata": {},
   "outputs": [
    {
     "name": "stdout",
     "output_type": "stream",
     "text": [
      "predictions: [-1 -1 -1 ... -1 -1 -1]\n",
      "0.8885\n"
     ]
    }
   ],
   "source": [
    "#Select indices where labels are 1\n",
    "indices = np.where(label_train==1)[0]\n",
    "test_indices = np.where(label_test==1)[0]\n",
    "train_data_ones = data_train[indices,:]\n",
    "train_labels_ones = label_train[indices]\n",
    "\n",
    "masked_labels = np.full(label_train.shape, -1)\n",
    "masked_labels[indices] = 1\n",
    "\n",
    "masked_test_labels = np.full(label_test.shape, -1)\n",
    "masked_test_labels[test_indices] = 1\n",
    "\n",
    "best_params = {}\n",
    "best_params['kernel'] = 'rbf'\n",
    "best_params['C'] = 1\n",
    "best_params['sigma'] = .1\n",
    "\n",
    "split_train_data = np.split(data_train, 100)[0]\n",
    "split_train_labels = np.split(masked_labels, 100)[0]\n",
    "\n",
    "model_ones = kernel_svm_train(split_train_data.T, split_train_labels, best_params)\n",
    "predictions = kernel_svm_predict(data_test.T, model_ones)\n",
    "print(\"predictions: {0}\".format(predictions[0]))\n",
    "test_accuracy = np.mean(predictions[0] == masked_test_labels)\n",
    "print(test_accuracy)"
   ]
  },
  {
   "cell_type": "code",
   "execution_count": 17,
   "metadata": {},
   "outputs": [
    {
     "name": "stdout",
     "output_type": "stream",
     "text": [
      "predictions: [-1 -1 -1 ... -1 -1 -1]\n",
      "0.8925\n"
     ]
    }
   ],
   "source": [
    "indices = np.where(label_train==2)[0]\n",
    "test_indices = np.where(label_test==2)[0]\n",
    "train_data_ones = data_train[indices,:]\n",
    "train_labels_ones = label_train[indices]\n",
    "\n",
    "masked_labels = np.full(label_train.shape, -1)\n",
    "masked_labels[indices] = 1\n",
    "\n",
    "masked_test_labels = np.full(label_test.shape, -1)\n",
    "masked_test_labels[test_indices] = 1\n",
    "\n",
    "best_params = {}\n",
    "best_params['kernel'] = 'rbf'\n",
    "best_params['C'] = 1\n",
    "best_params['sigma'] = .1\n",
    "\n",
    "split_train_data = np.split(data_train, 100)[0]\n",
    "split_train_labels = np.split(masked_labels, 100)[0]\n",
    "\n",
    "model_ones = kernel_svm_train(split_train_data.T, split_train_labels, best_params)\n",
    "predictions = kernel_svm_predict(data_test.T, model_ones)\n",
    "print(\"predictions: {0}\".format(predictions[0]))\n",
    "test_accuracy = np.mean(predictions[0] == masked_test_labels)\n",
    "print(test_accuracy)"
   ]
  },
  {
   "cell_type": "code",
   "execution_count": 19,
   "metadata": {},
   "outputs": [
    {
     "name": "stdout",
     "output_type": "stream",
     "text": [
      "Test accuracy for 0: 0.9\n",
      "Test accuracy for 1: 0.8885\n",
      "Test accuracy for 2: 0.8925\n",
      "Test accuracy for 3: 0.9075\n",
      "Test accuracy for 4: 0.90275\n",
      "Test accuracy for 5: 0.90525\n",
      "Test accuracy for 6: 0.89675\n",
      "Test accuracy for 7: 0.89775\n",
      "Test accuracy for 8: 0.90425\n"
     ]
    }
   ],
   "source": [
    "for i in range(9):\n",
    "    indices = np.where(label_train==i)[0]\n",
    "    test_indices = np.where(label_test==i)[0]\n",
    "    train_data_ones = data_train[indices,:]\n",
    "    train_labels_ones = label_train[indices]\n",
    "\n",
    "    masked_labels = np.full(label_train.shape, -1)\n",
    "    masked_labels[indices] = 1\n",
    "\n",
    "    masked_test_labels = np.full(label_test.shape, -1)\n",
    "    masked_test_labels[test_indices] = 1\n",
    "\n",
    "    best_params = {}\n",
    "    best_params['kernel'] = 'rbf'\n",
    "    best_params['C'] = 1\n",
    "    best_params['sigma'] = .1\n",
    "\n",
    "    split_train_data = np.split(data_train, 100)[0]\n",
    "    split_train_labels = np.split(masked_labels, 100)[0]\n",
    "\n",
    "    model_ones = kernel_svm_train(split_train_data.T, split_train_labels, best_params)\n",
    "    predictions = kernel_svm_predict(data_test.T, model_ones)\n",
    "#     print(\"predictions: {0}\".format(predictions[0]))\n",
    "    test_accuracy = np.mean(predictions[0] == masked_test_labels)\n",
    "    print(\"Test accuracy for {0}: {1}\".format(i, test_accuracy))"
   ]
  },
  {
   "cell_type": "code",
   "execution_count": null,
   "metadata": {},
   "outputs": [],
   "source": []
  }
 ],
 "metadata": {
  "kernelspec": {
   "display_name": "Python 3",
   "language": "python",
   "name": "python3"
  },
  "language_info": {
   "codemirror_mode": {
    "name": "ipython",
    "version": 3
   },
   "file_extension": ".py",
   "mimetype": "text/x-python",
   "name": "python",
   "nbconvert_exporter": "python",
   "pygments_lexer": "ipython3",
   "version": "3.8.5"
  }
 },
 "nbformat": 4,
 "nbformat_minor": 4
}
