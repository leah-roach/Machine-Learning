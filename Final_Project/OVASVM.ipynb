{
 "cells": [
  {
   "cell_type": "code",
   "execution_count": 1,
   "metadata": {},
   "outputs": [],
   "source": [
    "import pandas as pd \n",
    "import numpy as np\n",
    "import os\n",
    "import matplotlib.pyplot as plt\n",
    "from plotutils import plot_data, plot_surface\n",
    "from SVM import kernel_svm_train, kernel_svm_predict\n",
    "from sklearn import preprocessing\n",
    "from crossval import cross_validate"
   ]
  },
  {
   "cell_type": "code",
   "execution_count": 2,
   "metadata": {},
   "outputs": [
    {
     "name": "stdout",
     "output_type": "stream",
     "text": [
      "(38000,)\n",
      "(38000, 784)\n"
     ]
    }
   ],
   "source": [
    "# Read the data using pandas\n",
    "df = pd.read_csv('digit-recognition/digit-recognition/train.csv')\n",
    "df2 = pd.read_csv('digit-recognition/digit-recognition/test.csv')\n",
    "\n",
    "#turn the training dataframe into numpy array \n",
    "label_data_train = df.to_numpy()\n",
    "\n",
    "#column vector for the labels (38000,)\n",
    "label_train = label_data_train[:,0] \n",
    "\n",
    "# (38000 x 784 matrix for the training data )\n",
    "data_train = label_data_train[:, 1:] \n",
    "print(label_train.shape)\n",
    "print(data_train.shape)\n",
    "\n",
    "# Turn testing dataframe into numpy array \n",
    "label_data_test = df2.to_numpy()\n",
    "label_test = label_data_test[:,0]\n",
    "data_test = label_data_test[:,1:]\n",
    "\n",
    "masked_train_labels = np.full(label_train.shape, -1)\n",
    "masked_test_labels = np.full(label_test.shape, -1)"
   ]
  },
  {
   "cell_type": "code",
   "execution_count": 3,
   "metadata": {},
   "outputs": [],
   "source": [
    "c_vals = 10 ** np.linspace(-3, 1, 5)\n",
    "sigmas = np.linspace(0.1, 1.5, 15)\n",
    "orders = [2, 3, 4, 5]\n",
    "norms = ['l1', 'l2', 'max']\n",
    "num_folds = 4\n",
    "sets = len(np.unique(label_train))\n",
    "test_accuracy = np.zeros(sets)"
   ]
  },
  {
   "cell_type": "code",
   "execution_count": null,
   "metadata": {},
   "outputs": [],
   "source": [
    "train_indices = np.where(label_train==i)[0]\n",
    "test_indices = np.where(label_test==i)[0]\n",
    "masked_train_labels = np.full(label_train.shape, -1)\n",
    "masked_train_labels[train_indices] = 1\n",
    "masked_test_labels = np.full(label_test.shape, -1)\n",
    "masked_test_labels[test_indices] = 1\n"
   ]
  },
  {
   "cell_type": "code",
   "execution_count": null,
   "metadata": {},
   "outputs": [],
   "source": [
    "# Run rbf kernel with no cross validation (random value selection)\n",
    "for i in range(sets):\n",
    "    train_indices = np.where(label_train==i)[0]\n",
    "    test_indices = np.where(label_test==i)[0]\n",
    "\n",
    "    masked_train_labels = np.full(label_train.shape, -1)\n",
    "    masked_train_labels[train_indices] = 1\n",
    "\n",
    "    masked_test_labels = np.full(label_test.shape, -1)\n",
    "    masked_test_labels[test_indices] = 1\n",
    "\n",
    "    best_params = {}\n",
    "    best_params['kernel'] = 'rbf'\n",
    "    best_params['C'] = 1\n",
    "    best_params['sigma'] = .1\n",
    "    \n",
    "    split_train_data = np.split(data_train, 50)[0]\n",
    "    print(split_train_data.shape)\n",
    "    split_train_labels = np.split(masked_train_labels, 50)[0]\n",
    "    \n",
    "    split_train_data_normalized = preprocessing.normalize(split_train_data, norm='l2')\n",
    "\n",
    "    model = kernel_svm_train(split_train_data_normalized.T, split_train_labels, best_params)\n",
    "    predictions = kernel_svm_predict(data_test.T, model)\n",
    "    test_accuracy[i] = np.mean(predictions[0] == masked_test_labels)\n",
    "    print(\"Test accuracy for {0}: {1}\".format(i, test_accuracy[i]))\n",
    "    \n",
    "print(\"Overall accuracy: {0}\".format(np.mean(test_accuracy))) #this is incorrect"
   ]
  }
 ],
 "metadata": {
  "kernelspec": {
   "display_name": "Python 3",
   "language": "python",
   "name": "python3"
  },
  "language_info": {
   "codemirror_mode": {
    "name": "ipython",
    "version": 3
   },
   "file_extension": ".py",
   "mimetype": "text/x-python",
   "name": "python",
   "nbconvert_exporter": "python",
   "pygments_lexer": "ipython3",
   "version": "3.6.5"
  }
 },
 "nbformat": 4,
 "nbformat_minor": 2
}
