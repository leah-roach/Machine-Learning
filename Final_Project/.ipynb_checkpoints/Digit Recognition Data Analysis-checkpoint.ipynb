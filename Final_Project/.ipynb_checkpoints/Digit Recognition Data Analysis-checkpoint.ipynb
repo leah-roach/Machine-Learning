{
 "cells": [
  {
   "cell_type": "code",
   "execution_count": 1,
   "metadata": {},
   "outputs": [],
   "source": [
    "import pandas as pd \n",
    "import numpy as np\n",
    "import os\n",
    "from skimage.feature import hog\n",
    "from skimage import data, exposure\n",
    "import matplotlib.pyplot as plt\n",
    "from KNN import knn_predict_instance\n",
    "#from SVM import kernel_svm_train, kernel_svm_predict\n",
    "from plotutils import plot_data, plot_surface\n",
    "from kernelsvm import SVM\n",
    "import numpy as np\n"
   ]
  },
  {
   "cell_type": "code",
   "execution_count": 2,
   "metadata": {
    "scrolled": true
   },
   "outputs": [],
   "source": [
    "#cwd = os.getcwd() #if need the current directory \n",
    "df = pd.read_csv('digit-recognition/digit-recognition/train.csv')\n",
    "df2 = pd.read_csv('digit-recognition/digit-recognition/test.csv')\n",
    "#the shape of the dataframe is (38000, 785) meaning there are 38000 samples and 1 label with 784 features"
   ]
  },
  {
   "cell_type": "code",
   "execution_count": 3,
   "metadata": {},
   "outputs": [],
   "source": [
    "#df.iloc[0,:] to access a certain column or row by index\n",
    "#any other fun commands to put \n",
    "\n",
    "#try to interpret the data graphically "
   ]
  },
  {
   "cell_type": "code",
   "execution_count": 4,
   "metadata": {},
   "outputs": [
    {
     "name": "stdout",
     "output_type": "stream",
     "text": [
      "(38000,)\n",
      "(38000, 784)\n"
     ]
    }
   ],
   "source": [
    "#turn the training dataframe into numpy array \n",
    "label_data_train = df.to_numpy()\n",
    "\n",
    "#column vector for the labels (38000,)\n",
    "label_train = label_data_train[:,0] \n",
    "\n",
    "#( 38000 x 784 matrix for the training data  )\n",
    "data_train = label_data_train[:, 1:] \n",
    "print(label_train.shape)\n",
    "print(data_train.shape)\n",
    "\n",
    "#turn testing dataframe into numpy array \n",
    "label_data_test = df2.to_numpy()\n",
    "label_test = label_data_test[:,0]\n",
    "data_test = label_data_test[:,1:]\n"
   ]
  },
  {
   "cell_type": "code",
   "execution_count": 5,
   "metadata": {},
   "outputs": [],
   "source": [
    "#Use sklearn library to try a KNN \n",
    "from sklearn.neighbors import KNeighborsClassifier\n",
    "neigh = KNeighborsClassifier(n_neighbors=3)\n",
    "neigh.fit(data_train, label_train)\n",
    "knn_predictions = neigh.predict(data_test)"
   ]
  },
  {
   "cell_type": "code",
   "execution_count": 6,
   "metadata": {},
   "outputs": [],
   "source": [
    "#performs feature extraction \n",
    "#code taken from https://medium.com/@basu369victor/handwritten-digits-recognition-d3d383431845\n",
    "#images aren't all same length so don't need to worry about scaling\n",
    "import matplotlib.pyplot as plt\n",
    "from skimage.feature import hog\n",
    "list_hog = []\n",
    "list_hog1 = []\n",
    "for feature in data_train:\n",
    "    fd = hog(feature.reshape((28,28)), orientations=9, pixels_per_cell=(8,8),cells_per_block=(2,2),visualize=False ) #can probably optimize this\n",
    "    list_hog.append(fd) #4x4 seems to be optimal \n",
    "hog_features_train = np.array(list_hog, 'float64')\n",
    "\n",
    "#on testing data \n",
    "for feature in data_test:\n",
    "    fd = hog(feature.reshape((28,28)), orientations=9, pixels_per_cell=(8,8),cells_per_block=(2,2),visualize=False )\n",
    "    list_hog1.append(fd)\n",
    "hog_features_test = np.array(list_hog1, 'float64')\n"
   ]
  },
  {
   "cell_type": "code",
   "execution_count": 7,
   "metadata": {},
   "outputs": [
    {
     "name": "stdout",
     "output_type": "stream",
     "text": [
      "(4000, 144)\n",
      "(4000, 784)\n"
     ]
    },
    {
     "data": {
      "image/png": "[encoded data removed]",
      "text/plain": [
       "<Figure size 1440x1440 with 2 Axes>"
      ]
     },
     "metadata": {
      "needs_background": "light"
     },
     "output_type": "display_data"
    }
   ],
   "source": [
    "#hog visualization \n",
    "#code taken from https://scikit-image.org/docs/dev/auto_examples/features_detection/plot_hog.html\n",
    "import matplotlib.pyplot as plt\n",
    "print(hog_features_test.shape)\n",
    "print(data_test.shape)\n",
    "image = data_test[5,:].reshape((28,28)) #can do this for multiple images \n",
    "\n",
    "fd, hog_image = hog(image, orientations=9, pixels_per_cell=(8, 8),\n",
    "                    cells_per_block=(1, 1), visualize=True, multichannel=False)\n",
    "\n",
    "fig, (ax1, ax2) = plt.subplots(1, 2, figsize=(20, 20), sharex=True, sharey=True)\n",
    "\n",
    "ax1.axis('off')\n",
    "ax1.imshow(image, cmap=plt.cm.gray)\n",
    "ax1.set_title('Input image')\n",
    "\n",
    "# Rescale histogram for better display\n",
    "hog_image_rescaled = exposure.rescale_intensity(hog_image, in_range=(0, 10))\n",
    "\n",
    "ax2.axis('off')\n",
    "ax2.imshow(hog_image_rescaled, cmap=plt.cm.gray)\n",
    "ax2.set_title('Histogram of Oriented Gradients')\n",
    "plt.show()"
   ]
  },
  {
   "cell_type": "code",
   "execution_count": 8,
   "metadata": {
    "scrolled": true
   },
   "outputs": [
    {
     "name": "stdout",
     "output_type": "stream",
     "text": [
      "(4000,)\n"
     ]
    }
   ],
   "source": [
    "#Use sklearn library to try SVM model \n",
    "#linear appears to work the best with HOG \n",
    "from sklearn import svm\n",
    "from sklearn.multiclass import OneVsOneClassifier\n",
    "clf = OneVsOneClassifier(svm.LinearSVC(C=0.030)) #performs slightyly better on SVM both linear and RBF\n",
    "#clf = OneVsOneClassifier(svm.SVC(gamma = 0.01, C=.030))\n",
    "clf.fit(hog_features_train, label_train)\n",
    "svm_predictions = clf.predict(hog_features_test)\n",
    "print(svm_predictions.shape)"
   ]
  },
  {
   "cell_type": "code",
   "execution_count": 9,
   "metadata": {},
   "outputs": [
    {
     "name": "stdout",
     "output_type": "stream",
     "text": [
      "(4000,)\n"
     ]
    }
   ],
   "source": [
    "from sklearn import svm\n",
    "from sklearn.multiclass import OneVsOneClassifier\n",
    "clf = OneVsOneClassifier(svm.SVC()) #takes a very very long time to run\n",
    "clf.fit(data_train, label_train)\n",
    "svm_predictions = clf.predict(data_test)\n",
    "print(svm_predictions.shape)"
   ]
  },
  {
   "cell_type": "code",
   "execution_count": 10,
   "metadata": {},
   "outputs": [
    {
     "name": "stdout",
     "output_type": "stream",
     "text": [
      "(38000,)\n",
      "(4000,)\n",
      "SVM Accuracy: 0.9775\n"
     ]
    }
   ],
   "source": [
    "#compute accuracy using sklearn \n",
    "from sklearn import metrics\n",
    "print(label_train.shape)\n",
    "print(label_test.shape)\n",
    "#print(\"KNN Accuracy:\",metrics.accuracy_score(label_test, knn_predictions))\n",
    "print(\"SVM Accuracy:\",metrics.accuracy_score(label_test, svm_predictions))"
   ]
  },
  {
   "cell_type": "code",
   "execution_count": 11,
   "metadata": {},
   "outputs": [],
   "source": [
    "#unewighted KNN with euclidean distance for an instance \n",
    "#calculate using euclidean distance \n",
    "#would be data_test.shape[0]\n",
    "knn_predicts = []\n",
    "for i in range(data_test.shape[0]):\n",
    "    knn_predicts.append(knn_predict_instance(data_train, label_train, data_test[i,:], 3))\n"
   ]
  },
  {
   "cell_type": "code",
   "execution_count": 62,
   "metadata": {},
   "outputs": [
    {
     "name": "stdout",
     "output_type": "stream",
     "text": [
      "4000\n",
      "0.973\n"
     ]
    }
   ],
   "source": [
    "correct = 0\n",
    "print(len(knn_predicts))\n",
    "for i in range(data_test.shape[0]):\n",
    "    if label_test[i]==knn_predicts[i]:\n",
    "        correct = correct+1\n",
    "print(correct/4000)\n"
   ]
  },
  {
   "cell_type": "code",
   "execution_count": null,
   "metadata": {},
   "outputs": [],
   "source": [
    "#Use sklearn library to try a KNN with HOG \n",
    "from sklearn.neighbors import KNeighborsClassifier\n",
    "neigh = KNeighborsClassifier(n_neighbors=3)\n",
    "neigh.fit(hog_features_train, label_train)\n",
    "knn_predictions = neigh.predict(hog_features_test)"
   ]
  },
  {
   "cell_type": "code",
   "execution_count": 4,
   "metadata": {},
   "outputs": [],
   "source": [
    "#for one vs all approach \n",
    "label_train1 = np.where(label_train==1, label_train, -1)\n",
    "label_train2 = np.where(label_train==2, 1, -1)\n",
    "label_train3 = np.where(label_train==3, 1, -1)\n",
    "label_train4 = np.where(label_train==4, 1, -1)\n",
    "label_train5 = np.where(label_train==5, 1, -1)\n",
    "label_train6 = np.where(label_train==6, 1, -1)\n",
    "label_train7 = np.where(label_train==7, 1, -1)\n",
    "label_train8 = np.where(label_train==8, 1, -1)\n",
    "label_train9 = np.where(label_train==9, 1, -1)"
   ]
  },
  {
   "cell_type": "code",
   "execution_count": 6,
   "metadata": {},
   "outputs": [
    {
     "name": "stdout",
     "output_type": "stream",
     "text": [
      "     pcost       dcost       gap    pres   dres\n",
      " 0: -2.0022e+04 -2.0404e+07  2e+07  1e-03  2e-07\n",
      " 1: -2.0061e+04 -2.4398e+05  2e+05  2e-05  2e-09\n",
      " 2: -2.3372e+04 -4.2376e+04  2e+04  1e-06  3e-08\n",
      " 3: -3.9838e+04 -4.1389e+04  2e+03  6e-08  1e-07\n",
      " 4: -4.0002e+04 -4.0018e+04  2e+01  7e-10  3e-09\n",
      " 5: -4.0004e+04 -4.0004e+04  2e-01  1e-09  6e-11\n",
      " 6: -4.0004e+04 -4.0004e+04  2e-03  1e-09  4e-11\n",
      "Optimal solution found.\n",
      "40 support vectors out of 380 points\n",
      "label_test: [1 0 1 ... 6 6 4]\n",
      "400 out of 4000 predictions correct\n"
     ]
    }
   ],
   "source": [
    "# Run polynomial SVM\n",
    "train_data = np.split(data_train, 100)\n",
    "train_labels = np.split(label_train, 100)\n",
    "polynomialSVM = SVM(C=1000.1)\n",
    "polynomialSVM.fit(train_data[0], train_labels[0])\n",
    "\n",
    "print(\"label_test: {0}\".format(label_test))\n",
    "predictions = polynomialSVM.predict(data_test)\n",
    "print(\"predictions: {0}\".format(predictions))\n",
    "correct = np.sum(predictions == label_test)\n",
    "print(\"%d out of %d predictions correct\" % (correct, len(predictions)))"
   ]
  },
  {
   "cell_type": "code",
   "execution_count": null,
   "metadata": {},
   "outputs": [
    {
     "name": "stdout",
     "output_type": "stream",
     "text": [
      "(144, 38000)\n"
     ]
    }
   ],
   "source": [
    "#Attempt at one vs one approach \n",
    "#maybe use np arg where? \n",
    "data_train=hog_features_train.T #transpoe so columns are the sample data\n",
    "print(data_train.shape)\n",
    "locations1 = np.argwhere(label_train==1)\n",
    "locations2 = np.argwhere(label_train==2)\n",
    "locations1 = np.ndarray.flatten(locations1)\n",
    "locations2 = np.ndarray.flatten(locations2)\n",
    "data_train[:,np.append(locations1,locations2)]\n",
    "best_params = {}\n",
    "best_params['kernel'] = 'linear'\n",
    "best_params['C'] = 1\n",
    "label_train[np.logical_or(label_train==1,label_train==2)]\n",
    "#whaat happens when try to run a multi-class on the single class SVM model? \n",
    "#may need to change the labels \n",
    "part = data_train[:,np.append(locations1,locations2)]\n",
    "compare = label_train[np.logical_or(label_train==1,label_train==2)] #somehow still seems to work interesting \n",
    "compare = np.where(compare==1, compare, -1) #as model only takes 1, -1\n",
    "lin_svm_model1 = kernel_svm_train(part, compare, best_params) \n"
   ]
  },
  {
   "cell_type": "code",
   "execution_count": null,
   "metadata": {},
   "outputs": [],
   "source": []
  }
 ],
 "metadata": {
  "kernelspec": {
   "display_name": "Python 3",
   "language": "python",
   "name": "python3"
  },
  "language_info": {
   "codemirror_mode": {
    "name": "ipython",
    "version": 3
   },
   "file_extension": ".py",
   "mimetype": "text/x-python",
   "name": "python",
   "nbconvert_exporter": "python",
   "pygments_lexer": "ipython3",
   "version": "3.8.5"
  }
 },
 "nbformat": 4,
 "nbformat_minor": 2
}
